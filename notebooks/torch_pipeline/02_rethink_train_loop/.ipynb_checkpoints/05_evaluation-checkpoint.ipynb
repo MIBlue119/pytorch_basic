{
 "cells": [
  {
   "cell_type": "code",
   "execution_count": 1,
   "metadata": {},
   "outputs": [],
   "source": [
    "# Import dependency \n",
    "import numpy as np \n",
    "import torch \n",
    "import torch.optim as optim\n",
    "import torch.nn as nn "
   ]
  },
  {
   "cell_type": "code",
   "execution_count": 2,
   "metadata": {},
   "outputs": [],
   "source": [
    "# Data generation \n",
    "true_b = 1\n",
    "true_w = 2 \n",
    "N = 100\n",
    "\n",
    "# set the random seed for numpy \n",
    "np.random.seed(43)\n",
    "\n",
    "x= np.random.rand(N,1)\n",
    "epsilon = (.1 * np.random.rand(N,1))\n",
    "\n",
    "y = true_b + true_w *x + epsilon"
   ]
  },
  {
   "cell_type": "code",
   "execution_count": 3,
   "metadata": {},
   "outputs": [],
   "source": [
    "#Generate training and validating sets\n",
    "idx = np.arange(N)\n",
    "\n",
    "# Use first 80 random indices for train \n",
    "train_idx = idx[:int(N*.8)]\n",
    "val_idx = idx[int(N*.8):]\n",
    "\n",
    "# Generate train and validation sets\n",
    "x_train, y_train = x[train_idx], y[train_idx]\n",
    "\n",
    "\n"
   ]
  },
  {
   "cell_type": "code",
   "execution_count": 4,
   "metadata": {},
   "outputs": [],
   "source": [
    "# Data preparation \n",
    "\n",
    "device = 'cuda' if torch.cuda.is_available() else 'cpu'\n",
    "\n",
    "# Transform data from numpy array to torch tensor\n",
    "x_train_tensor = torch.as_tensor(x_train).float().to(device)\n",
    "y_train_tensor = torch.as_tensor(y_train).float().to(device)"
   ]
  },
  {
   "cell_type": "code",
   "execution_count": 5,
   "metadata": {},
   "outputs": [
    {
     "name": "stdout",
     "output_type": "stream",
     "text": [
      "(tensor([0.1151]), tensor([1.2404]))\n",
      "80\n"
     ]
    }
   ],
   "source": [
    "# Build a Dataset\n",
    "from torch.utils.data import Dataset\n",
    "\n",
    "class CustomDataset(Dataset):\n",
    "    def __init__(self, x_tensor, y_tensor):\n",
    "        self.x = x_tensor\n",
    "        self.y = y_tensor\n",
    "    \n",
    "    def __getitem__(self, index):\n",
    "        return (self.x[index], self.y[index])\n",
    "    \n",
    "    def __len__(self):\n",
    "        return len(self.x)\n",
    "\n",
    "train_data = CustomDataset(x_train_tensor, y_train_tensor)\n",
    "print(train_data[0])\n",
    "print(len(train_data))"
   ]
  },
  {
   "cell_type": "code",
   "execution_count": 19,
   "metadata": {},
   "outputs": [
    {
     "name": "stdout",
     "output_type": "stream",
     "text": [
      "80\n"
     ]
    }
   ],
   "source": [
    "#Use the `random split` to split data\n",
    "import torch.utils.data as data \n",
    "\n",
    "torch.manual_seed(42)\n",
    "\n",
    "#Build tensors from numpy arrays BEfore split\n",
    "x_tensor = torch.as_tensor(x).float()\n",
    "y_tensor = torch.as_tensor(y).float()\n",
    "\n",
    "# Build the datasets containing all data points\n",
    "dataset = CustomDataset(x_tensor, y_tensor)\n",
    "\n",
    "# Performs the split\n",
    "ratio = .8\n",
    "n_total = len(dataset)\n",
    "n_train = int(n_total*ratio)\n",
    "n_val = n_total - n_train\n",
    "\n",
    "train_data, val_data = data.random_split(dataset, [n_train, n_val])\n",
    "\n",
    "print(len(train_data))"
   ]
  },
  {
   "cell_type": "code",
   "execution_count": 6,
   "metadata": {},
   "outputs": [
    {
     "name": "stdout",
     "output_type": "stream",
     "text": [
      "<torch.utils.data.dataloader.DataLoader object at 0x7fb8d0794ca0>\n"
     ]
    }
   ],
   "source": [
    "from torch.utils.data import DataLoader\n",
    "\n",
    "# Build a data loader that yields mini-batches of size 2\n",
    "train_loader = DataLoader(\n",
    "        dataset=train_data,\n",
    "        batch_size=2,\n",
    "        shuffle=True\n",
    ")\n",
    "print(train_loader)"
   ]
  },
  {
   "cell_type": "code",
   "execution_count": null,
   "metadata": {},
   "outputs": [],
   "source": [
    "# Create a data loader for the validation set\n",
    "val_loader = Dataloader(\n",
    "    dataset=val_data,\n",
    "    batch_size=16\n",
    ")"
   ]
  },
  {
   "cell_type": "code",
   "execution_count": 7,
   "metadata": {},
   "outputs": [
    {
     "name": "stdout",
     "output_type": "stream",
     "text": [
      "[tensor([[0.2061],\n",
      "        [0.8997]]), tensor([[1.5074],\n",
      "        [2.8620]])]\n"
     ]
    }
   ],
   "source": [
    "print(next(iter(train_loader)))"
   ]
  },
  {
   "cell_type": "code",
   "execution_count": 8,
   "metadata": {},
   "outputs": [],
   "source": [
    "#Define the train step\n",
    "\n",
    "def make_train_step(model, loss_fn, optimizer):\n",
    "    # Builds function that performs a step in the train loop \n",
    "    def perform_train_step(x,y):\n",
    "        \n",
    "        # Set the model to TRAIN mode\n",
    "        model.train()\n",
    "        \n",
    "        # Step1: Compute the model's predicition - forward pass\n",
    "        yhat = model(x)\n",
    "        \n",
    "        # Step2: Compute the loss\n",
    "        loss = loss_fn(yhat, y)\n",
    "        \n",
    "        # Step3: Compute gradients for \"b\" and \"w\" parameters\n",
    "        loss.backward()\n",
    "        \n",
    "        # Step4: Updates parameters using gradients and the learning rate\n",
    "        optimizer.step()\n",
    "        optimizer.zero_grad()\n",
    "        \n",
    "        #print(model.state_dict())\n",
    "        # Return the loss \n",
    "        return loss.item()\n",
    "    #Return the function that will be called inside the train loop\n",
    "    return perform_train_step"
   ]
  },
  {
   "cell_type": "code",
   "execution_count": null,
   "metadata": {},
   "outputs": [],
   "source": [
    "# Define the validation step \n",
    "def make_val_step(model, loss_fn):\n",
    "    # Build function that perform a step in the validation loop\n",
    "    def perform_val_step(x,y):\n",
    "        # Set the model to evaluation mode\n",
    "        model.eval()\n",
    "        \n",
    "        # Step 1: Compute the model's prediciton-forward pass\n",
    "        yhat = model(x)\n",
    "        \n",
    "        # Step 2: Compute the loss\n",
    "        loss = loss_fn(yhat, y)\n",
    "        \n",
    "        # We don't need to compute gradients and update the parameter here\n",
    "        # since we don't update parameters during evaluation.\n",
    "        return loss.item()\n",
    "    return perform_val_step"
   ]
  },
  {
   "cell_type": "code",
   "execution_count": 15,
   "metadata": {},
   "outputs": [
    {
     "name": "stdout",
     "output_type": "stream",
     "text": [
      "OrderedDict([('linear.weight', tensor([[0.7645]])), ('linear.bias', tensor([0.8300]))])\n"
     ]
    }
   ],
   "source": [
    "# Model config \n",
    "\n",
    "# Define the model \n",
    "class ManualLinearRegression(nn.Module):\n",
    "    def __init__(self):\n",
    "        super().__init__()\n",
    "        self.linear = nn.Linear(1,1)\n",
    "    def forward(self,x):\n",
    "        return self.linear(x)\n",
    "\n",
    "\n",
    "# Set learning rate \n",
    "lr = 0.1\n",
    "\n",
    "torch.manual_seed(42)\n",
    "\n",
    "# Create a model and send it to the device \n",
    "model = ManualLinearRegression().to(device)\n",
    "print(model.state_dict())\n",
    "\n",
    "# Define a SGD optimizer to update the parameters \n",
    "optimizer = torch.optim.SGD(model.parameters(), lr=lr)\n",
    "\n",
    "# Define a MSE loss function \n",
    "loss_fn = nn.MSELoss(reduction=\"mean\")\n",
    "\n",
    "\n",
    "# Create a train_step \n",
    "train_step = make_train_step(model, loss_fn, optimizer)"
   ]
  },
  {
   "cell_type": "code",
   "execution_count": 16,
   "metadata": {},
   "outputs": [],
   "source": [
    "# Construct a function for mini_batch\n",
    "def mini_batch(device, dataloader, step):\n",
    "    \"\"\"A function th do mini-batch training.\n",
    "    \n",
    "    Arguments\n",
    "    ---------\n",
    "        device: where to send the data\n",
    "        dataloader: draw the mini-batch\n",
    "        step: the training step fucntion\n",
    "    \"\"\"\n",
    "    \n",
    "    mini_batch_losses = []\n",
    "    for x_batch, y_batch in dataloader:\n",
    "        # Send the mini-batch data to the device\n",
    "        x_batch = x_batch.to(device)\n",
    "        y_bacth = y_batch.to(device)\n",
    "        \n",
    "        # Perform the train step\n",
    "        mini_batch_loss = train_step(x_batch, y_batch)\n",
    "        mini_batch_losses.append(mini_batch_loss) \n",
    "    \n",
    "    #Compute the average loss over all mini-batches\n",
    "    loss = np.mean(mini_batch_losses)\n",
    "    return loss"
   ]
  },
  {
   "cell_type": "code",
   "execution_count": 17,
   "metadata": {},
   "outputs": [],
   "source": [
    "# Model training\n",
    "\n",
    "n_epochs = 1000\n",
    "losses = []\n",
    "for epoch in range(n_epochs):\n",
    "    \n",
    "    # Call the mini batch function\n",
    "    loss = mini_batch(device, train_loader, train_step)\n",
    "    losses.append(loss)\n",
    "   "
   ]
  },
  {
   "cell_type": "code",
   "execution_count": 18,
   "metadata": {},
   "outputs": [
    {
     "name": "stdout",
     "output_type": "stream",
     "text": [
      "OrderedDict([('linear.weight', tensor([[2.0050]])), ('linear.bias', tensor([1.0597]))])\n"
     ]
    }
   ],
   "source": [
    "# Model's parameter before training \n",
    "print(model.state_dict())"
   ]
  },
  {
   "cell_type": "code",
   "execution_count": 13,
   "metadata": {},
   "outputs": [],
   "source": [
    "# Check model's parameters\n",
    "#print(model.state_dict())"
   ]
  },
  {
   "cell_type": "code",
   "execution_count": 14,
   "metadata": {},
   "outputs": [
    {
     "name": "stdout",
     "output_type": "stream",
     "text": [
      "[Parameter containing:\n",
      "tensor([[2.0054]], requires_grad=True), Parameter containing:\n",
      "tensor([1.0554], requires_grad=True)]\n"
     ]
    }
   ],
   "source": [
    "print(list(model.parameters()))"
   ]
  },
  {
   "cell_type": "code",
   "execution_count": null,
   "metadata": {},
   "outputs": [],
   "source": []
  }
 ],
 "metadata": {
  "kernelspec": {
   "display_name": "Python 3",
   "language": "python",
   "name": "python3"
  },
  "language_info": {
   "codemirror_mode": {
    "name": "ipython",
    "version": 3
   },
   "file_extension": ".py",
   "mimetype": "text/x-python",
   "name": "python",
   "nbconvert_exporter": "python",
   "pygments_lexer": "ipython3",
   "version": "3.8.5"
  }
 },
 "nbformat": 4,
 "nbformat_minor": 4
}
