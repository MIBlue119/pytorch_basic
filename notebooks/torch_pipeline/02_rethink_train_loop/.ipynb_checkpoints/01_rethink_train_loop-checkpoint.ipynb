{
 "cells": [
  {
   "cell_type": "code",
   "execution_count": 1,
   "metadata": {},
   "outputs": [],
   "source": [
    "# Import dependency \n",
    "import numpy as np \n",
    "import torch \n",
    "import torch.optim as optim\n",
    "import torch.nn as nn "
   ]
  },
  {
   "cell_type": "code",
   "execution_count": 2,
   "metadata": {},
   "outputs": [],
   "source": [
    "# Data generation \n",
    "true_b = 1\n",
    "true_w = 2 \n",
    "N = 100\n",
    "\n",
    "# set the random seed for numpy \n",
    "np.random.seed(43)\n",
    "\n",
    "x= np.random.rand(N,1)\n",
    "epsilon = (.1 * np.random.rand(N,1))\n",
    "\n",
    "y = true_b + true_w *x + epsilon"
   ]
  },
  {
   "cell_type": "code",
   "execution_count": 3,
   "metadata": {},
   "outputs": [],
   "source": [
    "#Generate training and validating sets\n",
    "idx = np.arange(N)\n",
    "\n",
    "# Use first 80 random indices for train \n",
    "train_idx = idx[:int(N*.8)]\n",
    "val_idx = idx[int(N*.8):]\n",
    "\n",
    "# Generate train and validation sets\n",
    "x_train, y_train = x[train_idx], y[train_idx]\n"
   ]
  },
  {
   "cell_type": "code",
   "execution_count": 4,
   "metadata": {},
   "outputs": [],
   "source": [
    "# Data preparation \n",
    "\n",
    "device = 'cuda' if torch.cuda.is_available() else 'cpu'\n",
    "\n",
    "# Transform data from numpy array to torch tensor\n",
    "x_train_tensor = torch.as_tensor(x_train).float().to(device)\n",
    "y_train_tensor = torch.as_tensor(y_train).float().to(device)"
   ]
  },
  {
   "cell_type": "code",
   "execution_count": 37,
   "metadata": {},
   "outputs": [],
   "source": [
    "#Define the train step\n",
    "\n",
    "def make_train_step(model, loss_fn, optimizer):\n",
    "    # Builds function that performs a step in the train loop \n",
    "    def perform_train_step(x,y):\n",
    "        \n",
    "        # Set the model to TRAIN mode\n",
    "        model.train()\n",
    "        \n",
    "        # Step1: Compute the model's predicition - forward pass\n",
    "        yhat = model(x)\n",
    "        \n",
    "        # Step2: Compute the loss\n",
    "        loss = loss_fn(yhat, y)\n",
    "        \n",
    "        # Step3: Compute gradients for \"b\" and \"w\" parameters\n",
    "        loss.backward()\n",
    "        \n",
    "        # Step4: Updates parameters using gradients and the learning rate\n",
    "        optimizer.step()\n",
    "        optimizer.zero_grad()\n",
    "        \n",
    "        print(model.state_dict())\n",
    "        # Return the loss \n",
    "        return loss.item()\n",
    "    #Return the function that will be called inside the train loop\n",
    "    return perform_train_step"
   ]
  },
  {
   "cell_type": "code",
   "execution_count": 38,
   "metadata": {},
   "outputs": [
    {
     "name": "stdout",
     "output_type": "stream",
     "text": [
      "OrderedDict([('linear.weight', tensor([[0.7645]])), ('linear.bias', tensor([0.8300]))])\n"
     ]
    }
   ],
   "source": [
    "# Model config \n",
    "\n",
    "# Define the model \n",
    "class ManualLinearRegression(nn.Module):\n",
    "    def __init__(self):\n",
    "        super().__init__()\n",
    "        self.linear = nn.Linear(1,1)\n",
    "    def forward(self,x):\n",
    "        return self.linear(x)\n",
    "\n",
    "\n",
    "# Set learning rate \n",
    "lr = 0.1\n",
    "\n",
    "torch.manual_seed(42)\n",
    "\n",
    "# Create a model and send it to the device \n",
    "model = ManualLinearRegression().to(device)\n",
    "print(model.state_dict())\n",
    "\n",
    "# Define a SGD optimizer to update the parameters \n",
    "optimizer = torch.optim.SGD(model.parameters(), lr=lr)\n",
    "\n",
    "# Define a MSE loss function \n",
    "loss_fn = nn.MSELoss(reduction=\"mean\")\n",
    "\n",
    "\n",
    "# Create a train_step \n",
    "train_step = make_train_step(model, loss_fn, optimizer)"
   ]
  },
  {
   "cell_type": "code",
   "execution_count": 41,
   "metadata": {},
   "outputs": [],
   "source": [
    "# Model training\n",
    "\n",
    "n_epochs = 1000\n",
    "losses = []\n",
    "for epoch in range(n_epochs):\n",
    "    model.train()  #2)\n",
    "    # Step 1: Computes the model's predicted output - forward pass\n",
    "    # No more manula prediction \n",
    "    #yhat = b + w*x_train_tensor \n",
    "    yhat = model(x_train_tensor)  #3)\n",
    "    \n",
    "    # Step 2: Computes the loss\n",
    "    # No more manual loss\n",
    "    # error = (yhat - y_train_tensor)\n",
    "    # loss = (error**2).mean()\n",
    "    loss = loss_fn(yhat, y_train_tensor) #2\n",
    "    \n",
    "    # Step 3: Computes gradients for both 'b' and 'w' parameters\n",
    "    loss.backward()\n",
    "    \n",
    "    # Step 4: Updates parameters using gradients and the learning rate\n",
    "    # No more manual update\n",
    "    # with torch.no_grade():\n",
    "    #    b-=lr*b.grad\n",
    "    #    w-=lr*w.grad\n",
    "    optimizer.step()\n",
    "    \n",
    "    \n",
    "    # Graident Zeroing\n",
    "    # No more telling pytorch to let gradients go \n",
    "    #b.grad.zero()\n",
    "    #w.grad.zero()\n",
    "    optimizer.zero_grad()\n",
    "    print(model.state_dict())\n",
    "   "
   ]
  },
  {
   "cell_type": "code",
   "execution_count": 33,
   "metadata": {},
   "outputs": [
    {
     "name": "stdout",
     "output_type": "stream",
     "text": [
      "OrderedDict([('linear.weight', tensor([[1.9994]])), ('linear.bias', tensor([1.0510]))])\n"
     ]
    }
   ],
   "source": [
    "# Model's parameter before training \n",
    "print(model.state_dict())"
   ]
  },
  {
   "cell_type": "code",
   "execution_count": 30,
   "metadata": {},
   "outputs": [],
   "source": [
    "# Check model's parameters\n",
    "#print(model.state_dict())"
   ]
  },
  {
   "cell_type": "code",
   "execution_count": 31,
   "metadata": {},
   "outputs": [
    {
     "name": "stdout",
     "output_type": "stream",
     "text": [
      "[Parameter containing:\n",
      "tensor([[1.9994]], requires_grad=True), Parameter containing:\n",
      "tensor([1.0510], requires_grad=True)]\n"
     ]
    }
   ],
   "source": [
    "print(list(model.parameters()))"
   ]
  },
  {
   "cell_type": "code",
   "execution_count": null,
   "metadata": {},
   "outputs": [],
   "source": []
  }
 ],
 "metadata": {
  "kernelspec": {
   "display_name": "Python 3",
   "language": "python",
   "name": "python3"
  },
  "language_info": {
   "codemirror_mode": {
    "name": "ipython",
    "version": 3
   },
   "file_extension": ".py",
   "mimetype": "text/x-python",
   "name": "python",
   "nbconvert_exporter": "python",
   "pygments_lexer": "ipython3",
   "version": "3.8.5"
  }
 },
 "nbformat": 4,
 "nbformat_minor": 4
}
