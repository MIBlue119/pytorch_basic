{
 "cells": [
  {
   "cell_type": "markdown",
   "metadata": {},
   "source": [
    "### What is the difference between `nn.ModuleList()` and `nn.Sequential()`?\n",
    "- nn.Module/nn.ModuleList/nn.Sequential are all containers that we could add module in it "
   ]
  },
  {
   "cell_type": "markdown",
   "metadata": {},
   "source": [
    "### `nn.Module`\n",
    "- torch docs: https://pytorch.org/docs/stable/generated/torch.nn.Module.html#torch.nn.Module\n",
    "- Base class for all neural network modules \n"
   ]
  },
  {
   "cell_type": "code",
   "execution_count": 19,
   "metadata": {},
   "outputs": [
    {
     "name": "stdout",
     "output_type": "stream",
     "text": [
      "<torch.utils.hooks.RemovableHandle object at 0x7fea613df990>\n",
      "<torch.utils.hooks.RemovableHandle object at 0x7fea613df990>\n",
      "<torch.utils.hooks.RemovableHandle object at 0x7fea613df990>\n",
      "Conv2d(1, 20, kernel_size=(5, 5), stride=(1, 1))\n",
      "-------------Module parameters----------------\n",
      "520\n",
      "-------------Input Grad ----------------\n",
      "torch.Size([1, 1, 224, 224])\n",
      "-------------Output Grad ----------------\n",
      "torch.Size([20, 220, 220])\n",
      "\n",
      "\n",
      "Conv2d(20, 20, kernel_size=(5, 5), stride=(1, 1))\n",
      "-------------Module parameters----------------\n",
      "10020\n",
      "-------------Input Grad ----------------\n",
      "torch.Size([1, 20, 220, 220])\n",
      "-------------Output Grad ----------------\n",
      "torch.Size([20, 216, 216])\n",
      "\n",
      "\n",
      "MaxPool2d(kernel_size=3, stride=1, padding=1, dilation=1, ceil_mode=False)\n",
      "-------------Module parameters----------------\n",
      "0\n",
      "-------------Input Grad ----------------\n",
      "torch.Size([1, 20, 216, 216])\n",
      "-------------Output Grad ----------------\n",
      "torch.Size([20, 216, 216])\n",
      "\n",
      "\n"
     ]
    },
    {
     "data": {
      "text/plain": [
       "torch.Size([1, 20, 216, 216])"
      ]
     },
     "execution_count": 19,
     "metadata": {},
     "output_type": "execute_result"
    }
   ],
   "source": [
    "# Construct a basic Network and add hook at forward\n",
    "import torch \n",
    "import torch.nn as nn \n",
    "import torch.nn.functional as F \n",
    "\n",
    "class NetSample(nn.Module):\n",
    "    def __init__(self):\n",
    "        super().__init__()\n",
    "        self.conv1 = nn.Conv2d(1, 20, 5)\n",
    "        self.conv2 = nn.Conv2d(20,20,5)\n",
    "        self.max_pool = nn.MaxPool2d(3,stride=1,padding=1)\n",
    "    \n",
    "    def forward(self, x):\n",
    "        x = F.relu(self.conv1(x))\n",
    "        x = F.relu(self.conv2(x))\n",
    "        x = self.max_pool(x)\n",
    "        return x \n",
    "\n",
    "def hook_fn(module, input, output):\n",
    "    \"\"\"Ref:https://blog.paperspace.com/pytorch-hooks-gradient-clipping-debugging/\"\"\"\n",
    "    print(module)\n",
    "    print(\"-------------Module parameters----------------\")\n",
    "    neles = sum( [ param.nelement() for param in module.parameters()])\n",
    "    print(neles)\n",
    "    print(\"-------------Input Grad ----------------\")\n",
    "\n",
    "    for grad in input:\n",
    "        try:\n",
    "            print(grad.shape)\n",
    "        except AttributeError:\n",
    "            print(\"None found for Gradient\")\n",
    "    print(\"-------------Output Grad ----------------\")\n",
    "    for grad in output:\n",
    "        try: \n",
    "            print(grad.shape)\n",
    "        except AttributeError:\n",
    "            print(\"None found for Gradient\")\n",
    "    print(\"\\n\")\n",
    "\n",
    "net = NetSample()\n",
    "# Iterate the childern to register the forward hook\n",
    "for i in net.children():\n",
    "    print(i.register_forward_hook(hook_fn))\n",
    "\n",
    "input = torch.randn(1,1,224,224)\n",
    "net(input).shape\n"
   ]
  }
 ],
 "metadata": {
  "interpreter": {
   "hash": "97a2178eda38448c29255f92091ccc3bc527ad6f76c75a99d80bd1de52db8c32"
  },
  "kernelspec": {
   "display_name": "Python 3.7.5 ('denoise_api')",
   "language": "python",
   "name": "python3"
  },
  "language_info": {
   "codemirror_mode": {
    "name": "ipython",
    "version": 3
   },
   "file_extension": ".py",
   "mimetype": "text/x-python",
   "name": "python",
   "nbconvert_exporter": "python",
   "pygments_lexer": "ipython3",
   "version": "3.7.5"
  },
  "orig_nbformat": 4
 },
 "nbformat": 4,
 "nbformat_minor": 2
}
