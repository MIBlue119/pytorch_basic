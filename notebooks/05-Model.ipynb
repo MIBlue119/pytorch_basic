{
 "cells": [
  {
   "cell_type": "code",
   "execution_count": 7,
   "metadata": {},
   "outputs": [],
   "source": [
    "import torch \n",
    "from torch import nn"
   ]
  },
  {
   "cell_type": "code",
   "execution_count": 8,
   "metadata": {},
   "outputs": [],
   "source": [
    "\n",
    "# Define the linear regression model with the pytorch `nn.Module` class"
   ]
  },
  {
   "cell_type": "code",
   "execution_count": 15,
   "metadata": {},
   "outputs": [],
   "source": [
    "class ManualLinearRegression(nn.Module):\n",
    "    def __init__(self):\n",
    "        super().__init__()\n",
    "        #Make `b` and `w` be the parameters of the model\n",
    "        #Wrap them with `nn.Parameter` \n",
    "        self.b = nn.Parameter(torch.randn(1,\n",
    "                                        requires_grad=True,\n",
    "                                        dtype=torch.float))\n",
    "        self.w = nn.Parameter(torch.randn(1,\n",
    "                                        requires_grad=True,\n",
    "                                        dtype=torch.float))\n",
    "    def forward(self, x):\n",
    "        # Compute the outputs /predictions\n",
    "        return self.b + self.w*x"
   ]
  },
  {
   "cell_type": "code",
   "execution_count": 22,
   "metadata": {},
   "outputs": [
    {
     "name": "stdout",
     "output_type": "stream",
     "text": [
      "<generator object Module.parameters at 0x7fb870742890>\n",
      "[Parameter containing:\n",
      "tensor([0.4617], requires_grad=True), Parameter containing:\n",
      "tensor([0.2674], requires_grad=True)]\n"
     ]
    }
   ],
   "source": [
    "#Example to construct a object\n",
    "dummy = ManualLinearRegression()\n",
    "dummy.parameters()\n",
    "print(dummy.parameters())\n",
    "print(list(dummy.parameters()))"
   ]
  },
  {
   "cell_type": "code",
   "execution_count": 21,
   "metadata": {},
   "outputs": [
    {
     "name": "stdout",
     "output_type": "stream",
     "text": [
      "OrderedDict([('b', tensor([2.2082])), ('w', tensor([-0.6380]))])\n"
     ]
    }
   ],
   "source": [
    "print(dummy.state_dict())"
   ]
  },
  {
   "cell_type": "code",
   "execution_count": 16,
   "metadata": {},
   "outputs": [],
   "source": [
    "#Data generation \n",
    "import numpy as np\n",
    "import torch \n",
    "\n",
    "\n",
    "true_b = 1\n",
    "true_w = 2 \n",
    "N = 100\n",
    "\n",
    "# set the random seed for numpy \n",
    "np.random.seed(43)\n",
    "\n",
    "x= np.random.rand(N,1)\n",
    "epsilon = (.1 * np.random.rand(N,1))\n",
    "\n",
    "y = true_b + true_w *x + epsilon\n",
    "\n",
    "# Generate training and validating sets \n",
    "idx = np.arange(N)\n",
    "np.random.shuffle(idx)\n",
    "\n",
    "# Use first 80 randowm indices for train\n",
    "train_idx = idx[:int(N*.8)]\n",
    "val_idx = idx[int(N*.8):]\n",
    "\n",
    "# Generate train and validation sets\n",
    "x_train, y_train = x[train_idx], y[train_idx]\n",
    "x_val, y_val = x[val_idx], y[val_idx]\n",
    "\n",
    "# Data preparation \n",
    "device = 'cuda' if torch.cuda.is_available() else 'cpu'\n",
    "\n",
    "# Tranform the data from numpy array to torch tensor\n",
    "x_train_tensor = torch.as_tensor(x_train).float().to(device)\n",
    "y_train_tensor = torch.as_tensor(y_train).float().to(device)"
   ]
  },
  {
   "cell_type": "code",
   "execution_count": 17,
   "metadata": {},
   "outputs": [
    {
     "name": "stdout",
     "output_type": "stream",
     "text": [
      "OrderedDict([('b', tensor([1.0557])), ('w', tensor([1.9947]))])\n"
     ]
    }
   ],
   "source": [
    "# Sets learning rate\n",
    "lr = 0.1 \n",
    "\n",
    "# Step 0 : Initialize parameters 'b' and 'w' randomly\n",
    "torch.manual_seed(42)\n",
    "\n",
    "# Create a model and send it at once to the device\n",
    "model = ManualLinearRegression().to(device) # 1)\n",
    "\n",
    "# Define a SGD optimizer to update the parameters\n",
    "#optimizer = torch.optim.SGD([b,w], lr=lr)\n",
    "optimizer = torch.optim.SGD(model.parameters(),lr=lr)\n",
    "\n",
    "\n",
    "#Define a MSE loss function \n",
    "loss_fn = nn.MSELoss(reduction=\"mean\")  \n",
    "\n",
    "\n",
    "# Define number of epochs \n",
    "n_epochs=1000\n",
    "\n",
    "for epoch in range(n_epochs): \n",
    "    model.train()  #2)\n",
    "    # Step 1: Computes the model's predicted output - forward pass\n",
    "    # No more manula prediction \n",
    "    #yhat = b + w*x_train_tensor \n",
    "    yhat = model(x_train_tensor)  #3)\n",
    "    \n",
    "    # Step 2: Computes the loss\n",
    "    # No more manual loss\n",
    "    # error = (yhat - y_train_tensor)\n",
    "    # loss = (error**2).mean()\n",
    "    loss = loss_fn(yhat, y_train_tensor) #2\n",
    "    \n",
    "    # Step 3: Computes gradients for both 'b' and 'w' parameters\n",
    "    loss.backward()\n",
    "    \n",
    "    # Step 4: Updates parameters using gradients and the learning rate\n",
    "    # No more manual update\n",
    "    # with torch.no_grade():\n",
    "    #    b-=lr*b.grad\n",
    "    #    w-=lr*w.grad\n",
    "    optimizer.step()\n",
    "    \n",
    "    \n",
    "    # Graident Zeroing\n",
    "    # No more telling pytorch to let gradients go \n",
    "    #b.grad.zero()\n",
    "    #w.grad.zero()\n",
    "    optimizer.zero_grad()\n",
    "\n",
    "#print(b,w)\n",
    "#Inspect the parameters using its state_dict\n",
    "print(model.state_dict())"
   ]
  },
  {
   "cell_type": "code",
   "execution_count": null,
   "metadata": {},
   "outputs": [],
   "source": []
  }
 ],
 "metadata": {
  "kernelspec": {
   "display_name": "Python 3",
   "language": "python",
   "name": "python3"
  },
  "language_info": {
   "codemirror_mode": {
    "name": "ipython",
    "version": 3
   },
   "file_extension": ".py",
   "mimetype": "text/x-python",
   "name": "python",
   "nbconvert_exporter": "python",
   "pygments_lexer": "ipython3",
   "version": "3.8.5"
  }
 },
 "nbformat": 4,
 "nbformat_minor": 4
}
