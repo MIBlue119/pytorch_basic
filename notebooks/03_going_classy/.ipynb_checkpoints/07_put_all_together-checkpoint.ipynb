{
 "cells": [
  {
   "cell_type": "code",
   "execution_count": 1,
   "metadata": {},
   "outputs": [],
   "source": [
    "# Import dependency \n",
    "import numpy as np \n",
    "import datetime\n",
    "import torch \n",
    "import torch.optim as optim\n",
    "import torch.nn as nn \n",
    "# Import the tensorboard used dependency\n",
    "from torch.utils.tensorboard import SummaryWriter\n",
    "\n",
    "import matplotlib.pyplot as plt\n",
    "%matplotlib inline\n",
    "plt.style.use('fivethirtyeight')"
   ]
  },
  {
   "cell_type": "code",
   "execution_count": 2,
   "metadata": {},
   "outputs": [],
   "source": [
    "# Contruct a class and define the constructor \n",
    "class StepbyStep(object):\n",
    "    def __init__(self,model,loss_fn, optimizer):\n",
    "        # Define some attributes to use them later \n",
    "        self.model = model \n",
    "        self.loss_fn = loss_fn \n",
    "        self.optimizer = optimizer\n",
    "        \n",
    "        # Automatically decided the device to use\n",
    "        self.device = 'cuda' if torch.cuda.is_available() else 'cpu'\n",
    "        # Send the model to the device\n",
    "        self.model.to(self.device)\n",
    "        \n",
    "        # These attributes are defined here, but since they are \n",
    "        # not available at the moment of creation, we keep them None\n",
    "        self.train_loader = None\n",
    "        self.val_loader = None \n",
    "        self.writer = None\n",
    "        \n",
    "        # These attributes are going to be computed internally\n",
    "        self.losses = []\n",
    "        self.val_losses = []\n",
    "        self.total_epochs = 0 \n",
    "        \n",
    "        # Create the train_step function for our model/loss function and optimizer \n",
    "        # there are no arguments there. It makes use of the class attributes directly \n",
    "        self.train_step = self._make_train_step()\n",
    "        \n",
    "        # Create the val_step function for model and loss\n",
    "        self.val_step = self._make_val_step()\n",
    "        \n",
    "    def to(self, device):\n",
    "        \"\"\"Function to let the user specify the device.\"\"\"\n",
    "        self.device = device\n",
    "        self.model.to(self.device)\n",
    "        \n",
    "    \n",
    "    def set_loaders(self, train_loader, val_loader=None):\n",
    "        \"\"\"Let the user set the loaders.\"\"\"\n",
    "        self.train_loader = train_loader\n",
    "        self.val_loader = val_loader\n",
    "    \n",
    "    def set_tensorboard(self, name, folder='runs'):\n",
    "        \"\"\"Let the user to set the tensorboard.\"\"\"\n",
    "        suffix = datetime.datetime.now().strftime('%Y%m%d%H%M%S')\n",
    "        self.writer = SummaryWriter(\n",
    "            '{}/{}_{}'.format(folder, name, sufix)\n",
    "        )\n",
    "        \n",
    "    def _make_train_step(self):\n",
    "        # Builds function that performs a step in the train loop \n",
    "        def perform_train_step(x,y):\n",
    "        \n",
    "            # Set the model to TRAIN mode\n",
    "            self.model.train()\n",
    "        \n",
    "            # Step1: Compute the model's predicition - forward pass\n",
    "            yhat = self.model(x)\n",
    "        \n",
    "            # Step2: Compute the loss\n",
    "            loss = self.loss_fn(yhat, y)\n",
    "        \n",
    "            # Step3: Compute gradients for \"b\" and \"w\" parameters\n",
    "            loss.backward()\n",
    "        \n",
    "            # Step4: Updates parameters using gradients and the learning rate\n",
    "            self.optimizer.step()\n",
    "            self.optimizer.zero_grad()\n",
    "        \n",
    "            #print(model.state_dict())\n",
    "            # Return the loss \n",
    "            return loss.item()\n",
    "        #Return the function that will be called inside the train loop\n",
    "        return perform_train_step\n",
    "    \n",
    "    def _make_val_step(self):\n",
    "        # Build function that perform a step in the validation loop\n",
    "        def perform_val_step(x,y):\n",
    "            # Set the model to evaluation mode\n",
    "            self.model.eval()\n",
    "        \n",
    "            # Step 1: Compute the model's prediciton-forward pass\n",
    "            yhat = self.model(x)\n",
    "        \n",
    "            # Step 2: Compute the loss\n",
    "            loss = self.loss_fn(yhat, y)\n",
    "        \n",
    "            # We don't need to compute gradients and update the parameter here\n",
    "            # since we don't update parameters during evaluation.\n",
    "            return loss.item()\n",
    "        return perform_val_step\n",
    "    \n",
    "    def _mini_batch(self, validation=False):\n",
    "        \"\"\"Could be used for training and validation.\n",
    "        \n",
    "        we use the argument `validation` to define which loader be used \n",
    "        \"\"\"\n",
    "        if validation:\n",
    "            dataloader = self.val_loader\n",
    "            step = self.val_step\n",
    "        else:\n",
    "            loader = self.train_loader\n",
    "            step = self.train_step\n",
    "        \n",
    "        if data_loader is None:\n",
    "            return None \n",
    "        \n",
    "        mini_batch_losses = []\n",
    "        for x_batch, y_batch in dataloader:\n",
    "            # Send the mini batch to device\n",
    "            x_batch = x_batch.to(self.device)\n",
    "            y_batch = y_batch.to(self.device)\n",
    "            \n",
    "            # Perform the step\n",
    "            mini_batch_loss = step(x_batch, y_batch)\n",
    "            mini_batch_losses.append(mini_batch_loss)\n",
    "        # Compute the average loss over all mini-batches\n",
    "        loss = np.mean(mini_batch_losses)\n",
    "        return loss\n",
    "    \n",
    "    def set_seed(self, seed=42):\n",
    "        \"\"\"Let the user to set the seed for reproducibility.\"\"\"\n",
    "        # https://pytorch.org/docs/stable/notes/randomness.html\n",
    "        torch.backends.cudnn.derministic = True\n",
    "        torch.backends.cudnn.benchmark =False\n",
    "        \n",
    "        #Sets the seed for generating random numbers.\n",
    "        torch.manual_seed(seed)\n",
    "        np.random.seed(seed)\n",
    "\n",
    "    def train(self, n_epochs, seed=42):\n",
    "        \"\"\"Define the train loops.\"\"\"\n",
    "        \n",
    "        # Set the seed for reproducibility\n",
    "        self.set_seed(seed)\n",
    "        \n",
    "        losses = []\n",
    "        val_losses = []\n",
    "        for epoch in range(n_epochs):\n",
    "            # Keep track of the number of epochs\n",
    "            self.total_epochs+=1\n",
    "            \n",
    "            # Call the mini batch function\n",
    "            loss = self._mini_batch(validation=False)\n",
    "            self.losses.append(loss)\n",
    "    \n",
    "            # Validation - no gradients in validation\n",
    "            # Use `torch.no_grad()` this context manager \n",
    "            # to disable any gradient computation\n",
    "            with torch.no_grad():\n",
    "                val_loss = mini_batch(validation=True)\n",
    "                self.val_losses.append(val_loss)\n",
    "\n",
    "            # If a SummarWriter has been set...\n",
    "            if self.writer:\n",
    "                scalars = {'training' loss}\n",
    "                if val_loss is not None:\n",
    "                    scalars.update({'validation': val_loss})\n",
    "                    \n",
    "                # Add scalars \n",
    "                self.writer.add_scalars(\n",
    "                   main_tag = 'loss',\n",
    "                   tag_scalar_dict = scalars,\n",
    "                global_step=epoch)\n",
    "        \n",
    "        if self.writer:\n",
    "            #Flushes the writer\n",
    "            self.writer.flush()\n",
    "            \n",
    "    def save_checkpoint(self, filename):\n",
    "        \"\"\"Builds dictionary with all elements for resuming training\"\"\"\n",
    "        checkpoint ={\n",
    "            'epoch': self.total_epochs,\n",
    "            'model_state_dict': self.model_state_dict(),\n",
    "            'optimizer_state_dict': self.optimizer_state_dict(),\n",
    "            'loss': self.losses,\n",
    "            'val_loss':sel.val_losses\n",
    "        }\n",
    "        torch.save(checkpoint, filename)\n",
    "        \n",
    "    def load_checkpoint(self, filename):\n",
    "        \"\"\"Function to let the user load the checkpoint.\"\"\"\n",
    "        \n",
    "        # Load the checkpoint file to dictionary\n",
    "        checkpoint = torch.load(filename)\n",
    "        \n",
    "        # Restore the saved parameter \n",
    "        self.model.load_state_dict(checkpoint['model_state_dict'])\n",
    "        self.optimizer.load_state_dict(checkpoint['optimizer_state_dict'])\n",
    "        self.total_epochs=checkpoint['epoch']\n",
    "        self.losses=checkpoint['loss']\n",
    "        self.val_losse=checkpoint['val_loss']\n",
    "        \n",
    "    def predict(self,x):\n",
    "        \"\"\"Construct the predict funciton.\"\"\"\n",
    "        \n",
    "        # Set the model to eval mode for prediction\n",
    "        self.model.eval()\n",
    "        \n",
    "        # Take a numpy input and make it a float tensor \n",
    "        x_tensor = torch.as_tensor(x).float()\n",
    "        \n",
    "        # Send input to device and use model for prediction\n",
    "        y_hat_tensor = self.model(x_tensor.to(self.device))\n",
    "        \n",
    "        # Set the model back to train mode\n",
    "        self.mode.train()\n",
    "        \n",
    "        # Detaches it, bring it to CPU and back to numpy\n",
    "        return y_hat_tensor.detach().cpu().numpy()\n",
    "    \n",
    "    def plot_lossed(self):\n",
    "        \"\"\"Draw some basic plots.\"\"\"\n",
    "        fig = plt.figure(figsiz=(10,4))\n",
    "        \n",
    "        plt.plot(self.losses, label=\"Training Loss\", c='b')\n",
    "        \n",
    "        if self.val_loader:\n",
    "            plt.plot(self.val_losses, label=\"Validation Loss\", c='r')\n",
    "        plt.yscale('log')\n",
    "        plt.xlabel('Epochs')\n",
    "        plt.ylabel('Loss')\n",
    "        plt.legend()\n",
    "        plt.tight_layout()\n",
    "        return fig \n",
    "    \n",
    "    def add_graph():\n",
    "        \"\"\"Add tensorboard used graph.\"\"\"\n",
    "        if self.train_loader and self.writer:\n",
    "            x_dummy, y_dummy =next(iter(self.train_loader))\n",
    "            self.writer.add_graph(self.model, x_dummy.to(self.device))\n",
    "            "
   ]
  },
  {
   "cell_type": "code",
   "execution_count": 2,
   "metadata": {},
   "outputs": [],
   "source": [
    "# Data generation \n",
    "true_b = 1\n",
    "true_w = 2 \n",
    "N = 100\n",
    "\n",
    "# set the random seed for numpy \n",
    "np.random.seed(43)\n",
    "\n",
    "x= np.random.rand(N,1)\n",
    "epsilon = (.1 * np.random.rand(N,1))\n",
    "\n",
    "y = true_b + true_w *x + epsilon"
   ]
  },
  {
   "cell_type": "code",
   "execution_count": 3,
   "metadata": {},
   "outputs": [],
   "source": [
    "#Generate training and validating sets\n",
    "idx = np.arange(N)\n",
    "\n",
    "# Use first 80 random indices for train \n",
    "train_idx = idx[:int(N*.8)]\n",
    "val_idx = idx[int(N*.8):]\n",
    "\n",
    "# Generate train and validation sets\n",
    "x_train, y_train = x[train_idx], y[train_idx]\n",
    "\n",
    "\n"
   ]
  },
  {
   "cell_type": "code",
   "execution_count": 4,
   "metadata": {},
   "outputs": [],
   "source": [
    "# Data preparation \n",
    "\n",
    "device = 'cuda' if torch.cuda.is_available() else 'cpu'\n",
    "\n",
    "# Transform data from numpy array to torch tensor\n",
    "x_train_tensor = torch.as_tensor(x_train).float().to(device)\n",
    "y_train_tensor = torch.as_tensor(y_train).float().to(device)"
   ]
  },
  {
   "cell_type": "code",
   "execution_count": 5,
   "metadata": {},
   "outputs": [
    {
     "name": "stdout",
     "output_type": "stream",
     "text": [
      "(tensor([0.1151]), tensor([1.2404]))\n",
      "80\n"
     ]
    }
   ],
   "source": [
    "# Build a Dataset\n",
    "from torch.utils.data import Dataset\n",
    "\n",
    "class CustomDataset(Dataset):\n",
    "    def __init__(self, x_tensor, y_tensor):\n",
    "        self.x = x_tensor\n",
    "        self.y = y_tensor\n",
    "    \n",
    "    def __getitem__(self, index):\n",
    "        return (self.x[index], self.y[index])\n",
    "    \n",
    "    def __len__(self):\n",
    "        return len(self.x)\n",
    "\n",
    "train_data = CustomDataset(x_train_tensor, y_train_tensor)\n",
    "print(train_data[0])\n",
    "print(len(train_data))"
   ]
  },
  {
   "cell_type": "code",
   "execution_count": 6,
   "metadata": {},
   "outputs": [
    {
     "name": "stdout",
     "output_type": "stream",
     "text": [
      "80\n"
     ]
    }
   ],
   "source": [
    "#Use the `random split` to split data\n",
    "import torch.utils.data as data \n",
    "\n",
    "torch.manual_seed(42)\n",
    "\n",
    "#Build tensors from numpy arrays BEfore split\n",
    "x_tensor = torch.as_tensor(x).float()\n",
    "y_tensor = torch.as_tensor(y).float()\n",
    "\n",
    "# Build the datasets containing all data points\n",
    "dataset = CustomDataset(x_tensor, y_tensor)\n",
    "\n",
    "# Performs the split\n",
    "ratio = .8\n",
    "n_total = len(dataset)\n",
    "n_train = int(n_total*ratio)\n",
    "n_val = n_total - n_train\n",
    "\n",
    "train_data, val_data = data.random_split(dataset, [n_train, n_val])\n",
    "\n",
    "print(len(train_data))"
   ]
  },
  {
   "cell_type": "code",
   "execution_count": 7,
   "metadata": {},
   "outputs": [
    {
     "name": "stdout",
     "output_type": "stream",
     "text": [
      "<torch.utils.data.dataloader.DataLoader object at 0x7fe0c814e520>\n"
     ]
    }
   ],
   "source": [
    "from torch.utils.data import DataLoader\n",
    "\n",
    "# Build a data loader that yields mini-batches of size 2\n",
    "train_loader = DataLoader(\n",
    "        dataset=train_data,\n",
    "        batch_size=2,\n",
    "        shuffle=True\n",
    ")\n",
    "print(train_loader)"
   ]
  },
  {
   "cell_type": "code",
   "execution_count": 8,
   "metadata": {},
   "outputs": [],
   "source": [
    "# Create a data loader for the validation set\n",
    "val_loader = DataLoader(\n",
    "    dataset=val_data,\n",
    "    batch_size=16\n",
    ")"
   ]
  },
  {
   "cell_type": "code",
   "execution_count": 9,
   "metadata": {},
   "outputs": [
    {
     "name": "stdout",
     "output_type": "stream",
     "text": [
      "[tensor([[0.6953],\n",
      "        [0.0569]]), tensor([[2.4350],\n",
      "        [1.1967]])]\n"
     ]
    }
   ],
   "source": [
    "print(next(iter(train_loader)))"
   ]
  },
  {
   "cell_type": "code",
   "execution_count": 12,
   "metadata": {},
   "outputs": [
    {
     "name": "stdout",
     "output_type": "stream",
     "text": [
      "OrderedDict([('linear.weight', tensor([[0.7645]])), ('linear.bias', tensor([0.8300]))])\n"
     ]
    }
   ],
   "source": [
    "# Model config \n",
    "\n",
    "# Define the model \n",
    "class ManualLinearRegression(nn.Module):\n",
    "    def __init__(self):\n",
    "        super().__init__()\n",
    "        self.linear = nn.Linear(1,1)\n",
    "    def forward(self,x):\n",
    "        return self.linear(x)\n",
    "\n",
    "\n",
    "# Set learning rate \n",
    "lr = 0.1\n",
    "\n",
    "torch.manual_seed(42)\n",
    "\n",
    "# Create a model and send it to the device \n",
    "model = ManualLinearRegression().to(device)\n",
    "print(model.state_dict())\n",
    "\n",
    "# Define a SGD optimizer to update the parameters \n",
    "optimizer = torch.optim.SGD(model.parameters(), lr=lr)\n",
    "\n",
    "# Define a MSE loss function \n",
    "loss_fn = nn.MSELoss(reduction=\"mean\")\n",
    "\n",
    "\n",
    "# Create a train_step \n",
    "train_step = make_train_step(model, loss_fn, optimizer)\n",
    "\n",
    "# Create a val_step\n",
    "val_step = make_val_step(model, loss_fn)\n",
    "\n",
    "# Create a summary writer to interface with Tensorboard\n",
    "writer = SummaryWriter('runs/simple_linear_regression')\n",
    "\n",
    "# Add graph\n",
    "# Fetch tuple of feature and label \n",
    "dummy_x, dummy_y = next(iter(train_loader))\n",
    "\n",
    "# Since our model was sent to device, we need to do the same\n",
    "writer.add_graph(model, dummy_x.to(device))"
   ]
  },
  {
   "cell_type": "code",
   "execution_count": 15,
   "metadata": {},
   "outputs": [
    {
     "name": "stdout",
     "output_type": "stream",
     "text": [
      "OrderedDict([('linear.weight', tensor([[1.9951]])), ('linear.bias', tensor([1.0443]))])\n"
     ]
    }
   ],
   "source": [
    "# Model's parameter before training \n",
    "print(model.state_dict())"
   ]
  },
  {
   "cell_type": "code",
   "execution_count": 16,
   "metadata": {},
   "outputs": [],
   "source": [
    "# Load the tensorboard notebook extension\n",
    "%load_ext tensorboard "
   ]
  },
  {
   "cell_type": "code",
   "execution_count": 17,
   "metadata": {},
   "outputs": [
    {
     "data": {
      "text/html": [
       "\n",
       "      <iframe id=\"tensorboard-frame-b57dc0a770902ad9\" width=\"100%\" height=\"800\" frameborder=\"0\">\n",
       "      </iframe>\n",
       "      <script>\n",
       "        (function() {\n",
       "          const frame = document.getElementById(\"tensorboard-frame-b57dc0a770902ad9\");\n",
       "          const url = new URL(\"/\", window.location);\n",
       "          const port = 6007;\n",
       "          if (port) {\n",
       "            url.port = port;\n",
       "          }\n",
       "          frame.src = url;\n",
       "        })();\n",
       "      </script>\n",
       "    "
      ],
      "text/plain": [
       "<IPython.core.display.HTML object>"
      ]
     },
     "metadata": {},
     "output_type": "display_data"
    }
   ],
   "source": [
    "# Running the Tensorboard notebook extension\n",
    "%tensorboard --logdir runs/simple_linear_regression"
   ]
  },
  {
   "cell_type": "code",
   "execution_count": 20,
   "metadata": {},
   "outputs": [],
   "source": [
    "# Check model's parameters\n",
    "#print(model.state_dict())"
   ]
  },
  {
   "cell_type": "code",
   "execution_count": 14,
   "metadata": {},
   "outputs": [
    {
     "name": "stdout",
     "output_type": "stream",
     "text": [
      "[Parameter containing:\n",
      "tensor([[2.0054]], requires_grad=True), Parameter containing:\n",
      "tensor([1.0554], requires_grad=True)]\n"
     ]
    }
   ],
   "source": [
    "print(list(model.parameters()))"
   ]
  },
  {
   "cell_type": "code",
   "execution_count": null,
   "metadata": {},
   "outputs": [],
   "source": []
  }
 ],
 "metadata": {
  "kernelspec": {
   "display_name": "Python 3",
   "language": "python",
   "name": "python3"
  },
  "language_info": {
   "codemirror_mode": {
    "name": "ipython",
    "version": 3
   },
   "file_extension": ".py",
   "mimetype": "text/x-python",
   "name": "python",
   "nbconvert_exporter": "python",
   "pygments_lexer": "ipython3",
   "version": "3.8.5"
  }
 },
 "nbformat": 4,
 "nbformat_minor": 4
}
