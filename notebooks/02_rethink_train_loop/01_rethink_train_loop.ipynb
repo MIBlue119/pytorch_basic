{
 "cells": [
  {
   "cell_type": "code",
   "execution_count": 1,
   "metadata": {},
   "outputs": [],
   "source": [
    "\n",
    "def make_train_step(model, loss_fn, optimizer):\n",
    "    # Builds function that performs a step in the train loop \n",
    "    def perform_train_step(x,y):\n",
    "        \n",
    "        # Set the model to TRAIN mode\n",
    "        model.train()\n",
    "        \n",
    "        # Step1: Compute the model's predicition - forward pass\n",
    "        yhat = model(x)\n",
    "        \n",
    "        # Step2: Compute the loss\n",
    "        loss = loss_fn(yhat, y)\n",
    "        \n",
    "        # Step3: Compute gradients for \"b\" and \"w\" parameters\n",
    "        loss.backward()\n",
    "        \n",
    "        # Step4: Updates parameters using gradients and the learning rate\n",
    "        optimizer.step()\n",
    "        optimizer.zero_grad()\n",
    "        \n",
    "        # Return the loss \n",
    "        return loss.item()\n",
    "    #Return the function that will be called inside the train loop\n",
    "    return perform_train_step"
   ]
  },
  {
   "cell_type": "code",
   "execution_count": null,
   "metadata": {},
   "outputs": [],
   "source": []
  }
 ],
 "metadata": {
  "kernelspec": {
   "display_name": "Python 3",
   "language": "python",
   "name": "python3"
  },
  "language_info": {
   "codemirror_mode": {
    "name": "ipython",
    "version": 3
   },
   "file_extension": ".py",
   "mimetype": "text/x-python",
   "name": "python",
   "nbconvert_exporter": "python",
   "pygments_lexer": "ipython3",
   "version": "3.8.5"
  }
 },
 "nbformat": 4,
 "nbformat_minor": 4
}
